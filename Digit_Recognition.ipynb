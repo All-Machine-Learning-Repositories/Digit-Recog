{
  "nbformat": 4,
  "nbformat_minor": 0,
  "metadata": {
    "colab": {
      "provenance": []
    },
    "kernelspec": {
      "name": "python3",
      "display_name": "Python 3"
    },
    "accelerator": "GPU"
  },
  "cells": [
    {
      "cell_type": "markdown",
      "metadata": {
        "id": "view-in-github"
      },
      "source": [
        "[View in Colaboratory](https://colab.research.google.com/github/raahatg21/Digit-Recognition-MNIST-Dataset-with-Keras/blob/master/MNIST_2.ipynb)"
      ]
    },
    {
      "metadata": {
        "id": "14inq5rRYQnE"
      },
      "cell_type": "markdown",
      "source": [
        "# MNIST Dataset: Image Classification"
      ]
    },
    {
      "metadata": {
        "id": "bViIm4_-X1AM"
      },
      "cell_type": "markdown",
      "source": [
        "**Using Convulution Neural Network trained from scratch. 99.15% Validation Accuracy. 99.14% Test Accuracy.**"
      ]
    },
    {
      "metadata": {
        "id": "DxCxYcyvYPlp"
      },
      "cell_type": "code",
      "source": [
        "import numpy as np\n",
        "import matplotlib.pyplot as plt\n"
      ],
      "execution_count": 2,
      "outputs": []
    },
    {
      "metadata": {
        "id": "Y1yOTJQCYYjB"
      },
      "cell_type": "code",
      "source": [
        "from keras.datasets import mnist\n",
        "from keras import models\n",
        "from keras import layers\n",
        "from keras.utils import to_categorical"
      ],
      "execution_count": 3,
      "outputs": []
    },
    {
      "metadata": {
        "id": "Xosgi2XOYtxB",
        "colab": {
          "base_uri": "https://localhost:8080/"
        },
        "outputId": "e38b1b83-32e9-436b-c09b-26ab3c10abd6"
      },
      "cell_type": "code",
      "source": [
        "# Importing the MNIST data that comes preloaded with Keras\n",
        "\n",
        "(train_data, train_labels), (test_data, test_labels) = mnist.load_data()"
      ],
      "execution_count": 4,
      "outputs": [
        {
          "output_type": "stream",
          "name": "stdout",
          "text": [
            "Downloading data from https://storage.googleapis.com/tensorflow/tf-keras-datasets/mnist.npz\n",
            "11490434/11490434 [==============================] - 0s 0us/step\n"
          ]
        }
      ]
    },
    {
      "metadata": {
        "id": "2BNzRkODY0u2",
        "colab": {
          "base_uri": "https://localhost:8080/"
        },
        "outputId": "3f43a748-ee3b-474c-dc3e-e9d2e118f990"
      },
      "cell_type": "code",
      "source": [
        "train_data.shape, train_labels.shape\n",
        "\n",
        "#(R,B,G)  (28,28,3)-> colour (28,28)->black in white -> fast"
      ],
      "execution_count": 5,
      "outputs": [
        {
          "output_type": "execute_result",
          "data": {
            "text/plain": [
              "((60000, 28, 28), (60000,))"
            ]
          },
          "metadata": {},
          "execution_count": 5
        }
      ]
    },
    {
      "metadata": {
        "id": "ok1ThhAdZl3E",
        "colab": {
          "base_uri": "https://localhost:8080/"
        },
        "outputId": "afe9e55e-d8e1-4650-f53c-a4185dbffdc9"
      },
      "cell_type": "code",
      "source": [
        "test_data.shape, test_labels.shape"
      ],
      "execution_count": 6,
      "outputs": [
        {
          "output_type": "execute_result",
          "data": {
            "text/plain": [
              "((10000, 28, 28), (10000,))"
            ]
          },
          "metadata": {},
          "execution_count": 6
        }
      ]
    },
    {
      "metadata": {
        "id": "IaxkwwqFY5SR"
      },
      "cell_type": "code",
      "source": [
        "# Preprocessing the Data\n",
        "\n",
        "train_data = train_data.reshape((60000, 28, 28, 1))\n",
        "train_data = train_data.astype('float32')/255\n",
        "\n",
        "test_data = test_data.reshape((10000, 28, 28, 1))\n",
        "test_data = test_data.astype('float32')/255"
      ],
      "execution_count": 7,
      "outputs": []
    },
    {
      "metadata": {
        "id": "iFupp9NvZhuV"
      },
      "cell_type": "code",
      "source": [
        "# Preprocessing the Labels\n",
        "\n",
        "train_labels = to_categorical(train_labels, num_classes = 10)\n",
        "test_labels = to_categorical(test_labels, num_classes = 10)"
      ],
      "execution_count": 8,
      "outputs": []
    },
    {
      "metadata": {
        "id": "69NrozUaZ-tn",
        "colab": {
          "base_uri": "https://localhost:8080/"
        },
        "outputId": "bcb8705e-f3e6-48b3-8901-e37c569aacf0"
      },
      "cell_type": "code",
      "source": [
        "# As an example\n",
        "\n",
        "train_labels[1]"
      ],
      "execution_count": 9,
      "outputs": [
        {
          "output_type": "execute_result",
          "data": {
            "text/plain": [
              "array([1., 0., 0., 0., 0., 0., 0., 0., 0., 0.], dtype=float32)"
            ]
          },
          "metadata": {},
          "execution_count": 9
        }
      ]
    },
    {
      "metadata": {
        "id": "IEfMrkPqaE9s"
      },
      "cell_type": "code",
      "source": [
        "# Validation Split (First 10,000 samples of Training Set)\n",
        "\n",
        "partial_train_data =   train_data[10000:]\n",
        "partial_train_labels = train_labels[10000:]\n",
        "\n",
        "val_data = train_data[:10000]\n",
        "val_labels = train_labels[:10000]"
      ],
      "execution_count": 10,
      "outputs": []
    },
    {
      "metadata": {
        "id": "AQjUb973adW5",
        "colab": {
          "base_uri": "https://localhost:8080/"
        },
        "outputId": "75a14283-72b8-4762-997a-a39b36d562df"
      },
      "cell_type": "code",
      "source": [
        "partial_train_data.shape, partial_train_labels.shape, val_data.shape, val_labels.shape, test_data.shape, test_labels.shape"
      ],
      "execution_count": 11,
      "outputs": [
        {
          "output_type": "execute_result",
          "data": {
            "text/plain": [
              "((50000, 28, 28, 1),\n",
              " (50000, 10),\n",
              " (10000, 28, 28, 1),\n",
              " (10000, 10),\n",
              " (10000, 28, 28, 1),\n",
              " (10000, 10))"
            ]
          },
          "metadata": {},
          "execution_count": 11
        }
      ]
    },
    {
      "metadata": {
        "id": "UCf6BfZMatXX"
      },
      "cell_type": "code",
      "source": [
        "# Building the Model (Convnet of 3 Pairs of Conv2D-MaxPool layers and 2 Dense layers. Dropout is also used to fight overfitting.)\n",
        "\n",
        "model = models.Sequential() # Initializes a sequential model, which allows you to build a linear stack of layers.\n",
        "\n",
        "#Adds the first convolutional layer with 32 filters, a filter size of (3, 3), ReLU activation function, and an input shape of (28, 28, 1) representing grayscale images.\n",
        "model.add(layers.Conv2D(32, (3, 3), activation = 'relu', input_shape = (28, 28, 1)))\n",
        "#Adds a max-pooling layer with a pool size of (2, 2) to downsample the spatial dimensions.\n",
        "model.add(layers.MaxPooling2D(2, 2))\n",
        "#Adds a dropout layer to prevent overfitting by randomly setting a fraction of input units to 0 during training or dropout layers for regularization\n",
        "model.add(layers.Dropout(0.5))\n",
        "\n",
        "\n",
        "model.add(layers.Conv2D(64, (3, 3), activation = 'relu'))\n",
        "model.add(layers.MaxPooling2D(2, 2))\n",
        "model.add(layers.Dropout(0.5))\n",
        "model.add(layers.Conv2D(64, (3, 3), activation = 'relu'))\n",
        "\n",
        "#Flatten Layer:Flattens the input, transforming it into a 1D array, before connecting to densely connected layers.\n",
        "model.add(layers.Flatten())\n",
        "#Densely Connected Layers:\n",
        "model.add(layers.Dense(128, activation = 'relu'))\n",
        "model.add(layers.Dropout(0.5))\n",
        "#Adds the output layer\n",
        "model.add(layers.Dense(10, activation = 'softmax'))"
      ],
      "execution_count": 12,
      "outputs": []
    },
    {
      "metadata": {
        "id": "bOPPad-mdOQ7",
        "colab": {
          "base_uri": "https://localhost:8080/"
        },
        "outputId": "8d5aef9e-5980-40fd-bf5f-3af9c20db30d"
      },
      "cell_type": "code",
      "source": [
        "model.summary()"
      ],
      "execution_count": 13,
      "outputs": [
        {
          "output_type": "stream",
          "name": "stdout",
          "text": [
            "Model: \"sequential\"\n",
            "_________________________________________________________________\n",
            " Layer (type)                Output Shape              Param #   \n",
            "=================================================================\n",
            " conv2d (Conv2D)             (None, 26, 26, 32)        320       \n",
            "                                                                 \n",
            " max_pooling2d (MaxPooling2  (None, 13, 13, 32)        0         \n",
            " D)                                                              \n",
            "                                                                 \n",
            " dropout (Dropout)           (None, 13, 13, 32)        0         \n",
            "                                                                 \n",
            " conv2d_1 (Conv2D)           (None, 11, 11, 64)        18496     \n",
            "                                                                 \n",
            " max_pooling2d_1 (MaxPoolin  (None, 5, 5, 64)          0         \n",
            " g2D)                                                            \n",
            "                                                                 \n",
            " dropout_1 (Dropout)         (None, 5, 5, 64)          0         \n",
            "                                                                 \n",
            " conv2d_2 (Conv2D)           (None, 3, 3, 64)          36928     \n",
            "                                                                 \n",
            " flatten (Flatten)           (None, 576)               0         \n",
            "                                                                 \n",
            " dense (Dense)               (None, 128)               73856     \n",
            "                                                                 \n",
            " dropout_2 (Dropout)         (None, 128)               0         \n",
            "                                                                 \n",
            " dense_1 (Dense)             (None, 10)                1290      \n",
            "                                                                 \n",
            "=================================================================\n",
            "Total params: 130890 (511.29 KB)\n",
            "Trainable params: 130890 (511.29 KB)\n",
            "Non-trainable params: 0 (0.00 Byte)\n",
            "_________________________________________________________________\n"
          ]
        }
      ]
    },
    {
      "metadata": {
        "id": "1jDqwKkpdP7c"
      },
      "cell_type": "code",
      "source": [
        "# Compiling the Model\n",
        "\n",
        "model.compile(optimizer = 'rmsprop', loss = 'categorical_crossentropy', metrics = ['acc'])"
      ],
      "execution_count": 14,
      "outputs": []
    },
    {
      "metadata": {
        "id": "GA3iXGOhdd9v",
        "colab": {
          "base_uri": "https://localhost:8080/"
        },
        "outputId": "cf54f493-53a2-4acb-8652-a75380228a28"
      },
      "cell_type": "code",
      "source": [
        "# Training\n",
        "\n",
        "history = model.fit(partial_train_data, partial_train_labels, epochs = 20, batch_size = 128, validation_data = (val_data, val_labels), verbose = 2)"
      ],
      "execution_count": 15,
      "outputs": [
        {
          "output_type": "stream",
          "name": "stdout",
          "text": [
            "Epoch 1/20\n",
            "391/391 - 20s - loss: 0.5369 - acc: 0.8254 - val_loss: 0.1250 - val_acc: 0.9621 - 20s/epoch - 51ms/step\n",
            "Epoch 2/20\n",
            "391/391 - 2s - loss: 0.1672 - acc: 0.9492 - val_loss: 0.0750 - val_acc: 0.9778 - 2s/epoch - 6ms/step\n",
            "Epoch 3/20\n",
            "391/391 - 2s - loss: 0.1174 - acc: 0.9648 - val_loss: 0.0678 - val_acc: 0.9804 - 2s/epoch - 5ms/step\n",
            "Epoch 4/20\n",
            "391/391 - 2s - loss: 0.0948 - acc: 0.9711 - val_loss: 0.0508 - val_acc: 0.9844 - 2s/epoch - 5ms/step\n",
            "Epoch 5/20\n",
            "391/391 - 2s - loss: 0.0841 - acc: 0.9748 - val_loss: 0.0496 - val_acc: 0.9861 - 2s/epoch - 5ms/step\n",
            "Epoch 6/20\n",
            "391/391 - 2s - loss: 0.0740 - acc: 0.9781 - val_loss: 0.0512 - val_acc: 0.9848 - 2s/epoch - 5ms/step\n",
            "Epoch 7/20\n",
            "391/391 - 2s - loss: 0.0692 - acc: 0.9797 - val_loss: 0.0414 - val_acc: 0.9886 - 2s/epoch - 6ms/step\n",
            "Epoch 8/20\n",
            "391/391 - 2s - loss: 0.0652 - acc: 0.9804 - val_loss: 0.0469 - val_acc: 0.9877 - 2s/epoch - 6ms/step\n",
            "Epoch 9/20\n",
            "391/391 - 2s - loss: 0.0564 - acc: 0.9832 - val_loss: 0.0370 - val_acc: 0.9884 - 2s/epoch - 5ms/step\n",
            "Epoch 10/20\n",
            "391/391 - 2s - loss: 0.0573 - acc: 0.9832 - val_loss: 0.0348 - val_acc: 0.9906 - 2s/epoch - 5ms/step\n",
            "Epoch 11/20\n",
            "391/391 - 2s - loss: 0.0551 - acc: 0.9834 - val_loss: 0.0337 - val_acc: 0.9903 - 2s/epoch - 5ms/step\n",
            "Epoch 12/20\n",
            "391/391 - 2s - loss: 0.0547 - acc: 0.9837 - val_loss: 0.0379 - val_acc: 0.9895 - 2s/epoch - 5ms/step\n",
            "Epoch 13/20\n",
            "391/391 - 2s - loss: 0.0531 - acc: 0.9841 - val_loss: 0.0343 - val_acc: 0.9906 - 2s/epoch - 6ms/step\n",
            "Epoch 14/20\n",
            "391/391 - 2s - loss: 0.0506 - acc: 0.9854 - val_loss: 0.0320 - val_acc: 0.9908 - 2s/epoch - 6ms/step\n",
            "Epoch 15/20\n",
            "391/391 - 2s - loss: 0.0497 - acc: 0.9854 - val_loss: 0.0327 - val_acc: 0.9913 - 2s/epoch - 5ms/step\n",
            "Epoch 16/20\n",
            "391/391 - 2s - loss: 0.0478 - acc: 0.9859 - val_loss: 0.0346 - val_acc: 0.9905 - 2s/epoch - 5ms/step\n",
            "Epoch 17/20\n",
            "391/391 - 2s - loss: 0.0508 - acc: 0.9853 - val_loss: 0.0334 - val_acc: 0.9908 - 2s/epoch - 6ms/step\n",
            "Epoch 18/20\n",
            "391/391 - 2s - loss: 0.0509 - acc: 0.9854 - val_loss: 0.0305 - val_acc: 0.9912 - 2s/epoch - 5ms/step\n",
            "Epoch 19/20\n",
            "391/391 - 2s - loss: 0.0516 - acc: 0.9860 - val_loss: 0.0316 - val_acc: 0.9914 - 2s/epoch - 6ms/step\n",
            "Epoch 20/20\n",
            "391/391 - 2s - loss: 0.0502 - acc: 0.9857 - val_loss: 0.0331 - val_acc: 0.9909 - 2s/epoch - 6ms/step\n"
          ]
        }
      ]
    },
    {
      "metadata": {
        "id": "8d6QMvUYhS3v",
        "colab": {
          "base_uri": "https://localhost:8080/"
        },
        "outputId": "6714df6c-8a34-4845-e1a6-6a12fe53c542"
      },
      "cell_type": "code",
      "source": [
        "# Evaluating on Test Data\n",
        "\n",
        "test_loss, test_acc = model.evaluate(test_data, test_labels)\n",
        "test_loss, test_acc"
      ],
      "execution_count": 21,
      "outputs": [
        {
          "output_type": "stream",
          "name": "stdout",
          "text": [
            "313/313 [==============================] - 1s 3ms/step - loss: 0.0257 - acc: 0.9927\n"
          ]
        },
        {
          "output_type": "execute_result",
          "data": {
            "text/plain": [
              "(0.025694362819194794, 0.9926999807357788)"
            ]
          },
          "metadata": {},
          "execution_count": 21
        }
      ]
    }
  ]
}